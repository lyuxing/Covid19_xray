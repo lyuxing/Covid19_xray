{
 "cells": [
  {
   "cell_type": "markdown",
   "id": "focused-shock",
   "metadata": {
    "toc": true
   },
   "source": [
    "<h1>Table of Contents<span class=\"tocSkip\"></span></h1>\n",
    "<div class=\"toc\"><ul class=\"toc-item\"><li><span><a href=\"#imports\" data-toc-modified-id=\"imports-1\"><span class=\"toc-item-num\">1&nbsp;&nbsp;</span>imports</a></span></li><li><span><a href=\"#folders\" data-toc-modified-id=\"folders-2\"><span class=\"toc-item-num\">2&nbsp;&nbsp;</span>folders</a></span></li><li><span><a href=\"#test\" data-toc-modified-id=\"test-3\"><span class=\"toc-item-num\">3&nbsp;&nbsp;</span>test</a></span></li><li><span><a href=\"#test-with-gt\" data-toc-modified-id=\"test-with-gt-4\"><span class=\"toc-item-num\">4&nbsp;&nbsp;</span>test with gt</a></span></li></ul></div>"
   ]
  },
  {
   "cell_type": "markdown",
   "id": "close-boring",
   "metadata": {},
   "source": [
    "## imports"
   ]
  },
  {
   "cell_type": "code",
   "execution_count": 1,
   "id": "molecular-bicycle",
   "metadata": {},
   "outputs": [],
   "source": [
    "import os\n",
    "import pandas as pd\n",
    "import numpy as np\n",
    "import glob2\n",
    "import matplotlib.pyplot as plt\n",
    "from tqdm.notebook import tqdm\n",
    "import cv2\n",
    "from PIL import Image\n",
    "\n",
    "%config Completer.use_jedi = False"
   ]
  },
  {
   "cell_type": "markdown",
   "id": "turkish-bidder",
   "metadata": {},
   "source": [
    "## folders"
   ]
  },
  {
   "cell_type": "code",
   "execution_count": 2,
   "id": "smooth-daughter",
   "metadata": {},
   "outputs": [],
   "source": [
    "data_folder = r'E:\\Xing\\Covid_19_xray\\data'"
   ]
  },
  {
   "cell_type": "code",
   "execution_count": 3,
   "id": "weird-eating",
   "metadata": {},
   "outputs": [],
   "source": [
    "df_train = pd.read_csv(os.path.join(data_folder,'train_split.txt'), delimiter = \" \", header=None)\n",
    "df_train.columns=['key','filename','label','dataset']"
   ]
  },
  {
   "cell_type": "code",
   "execution_count": 4,
   "id": "christian-senior",
   "metadata": {},
   "outputs": [],
   "source": [
    "df_train.reset_index(inplace=True,drop=True)"
   ]
  },
  {
   "cell_type": "code",
   "execution_count": 5,
   "id": "intended-operation",
   "metadata": {},
   "outputs": [
    {
     "data": {
      "text/html": [
       "<div>\n",
       "<style scoped>\n",
       "    .dataframe tbody tr th:only-of-type {\n",
       "        vertical-align: middle;\n",
       "    }\n",
       "\n",
       "    .dataframe tbody tr th {\n",
       "        vertical-align: top;\n",
       "    }\n",
       "\n",
       "    .dataframe thead th {\n",
       "        text-align: right;\n",
       "    }\n",
       "</style>\n",
       "<table border=\"1\" class=\"dataframe\">\n",
       "  <thead>\n",
       "    <tr style=\"text-align: right;\">\n",
       "      <th></th>\n",
       "      <th>key</th>\n",
       "      <th>filename</th>\n",
       "      <th>label</th>\n",
       "      <th>dataset</th>\n",
       "    </tr>\n",
       "  </thead>\n",
       "  <tbody>\n",
       "    <tr>\n",
       "      <th>0</th>\n",
       "      <td>5</td>\n",
       "      <td>ARDSSevere.png</td>\n",
       "      <td>negative</td>\n",
       "      <td>cohen</td>\n",
       "    </tr>\n",
       "    <tr>\n",
       "      <th>1</th>\n",
       "      <td>25</td>\n",
       "      <td>acute-respiratory-distress-syndrome-ards-1.jpg</td>\n",
       "      <td>negative</td>\n",
       "      <td>cohen</td>\n",
       "    </tr>\n",
       "    <tr>\n",
       "      <th>2</th>\n",
       "      <td>26</td>\n",
       "      <td>acute-respiratory-distress-syndrome-ards.jpg</td>\n",
       "      <td>negative</td>\n",
       "      <td>cohen</td>\n",
       "    </tr>\n",
       "    <tr>\n",
       "      <th>3</th>\n",
       "      <td>27</td>\n",
       "      <td>ards-secondary-to-tiger-snake-bite.png</td>\n",
       "      <td>negative</td>\n",
       "      <td>cohen</td>\n",
       "    </tr>\n",
       "    <tr>\n",
       "      <th>4</th>\n",
       "      <td>28</td>\n",
       "      <td>pneumocystis-pneumonia-2-PA.png</td>\n",
       "      <td>negative</td>\n",
       "      <td>cohen</td>\n",
       "    </tr>\n",
       "  </tbody>\n",
       "</table>\n",
       "</div>"
      ],
      "text/plain": [
       "  key                                        filename     label dataset\n",
       "0   5                                  ARDSSevere.png  negative   cohen\n",
       "1  25  acute-respiratory-distress-syndrome-ards-1.jpg  negative   cohen\n",
       "2  26    acute-respiratory-distress-syndrome-ards.jpg  negative   cohen\n",
       "3  27          ards-secondary-to-tiger-snake-bite.png  negative   cohen\n",
       "4  28                 pneumocystis-pneumonia-2-PA.png  negative   cohen"
      ]
     },
     "execution_count": 5,
     "metadata": {},
     "output_type": "execute_result"
    }
   ],
   "source": [
    "df_train.head()"
   ]
  },
  {
   "cell_type": "code",
   "execution_count": 35,
   "id": "gothic-invitation",
   "metadata": {},
   "outputs": [
    {
     "data": {
      "text/plain": [
       "<AxesSubplot:>"
      ]
     },
     "execution_count": 35,
     "metadata": {},
     "output_type": "execute_result"
    },
    {
     "data": {
      "image/png": "[encoded data removed]",
      "text/plain": [
       "<Figure size 432x288 with 1 Axes>"
      ]
     },
     "metadata": {
      "needs_background": "light"
     },
     "output_type": "display_data"
    }
   ],
   "source": [
    "df_train.label.hist()"
   ]
  },
  {
   "cell_type": "code",
   "execution_count": 6,
   "id": "engaged-watch",
   "metadata": {},
   "outputs": [
    {
     "data": {
      "text/plain": [
       "<AxesSubplot:>"
      ]
     },
     "execution_count": 6,
     "metadata": {},
     "output_type": "execute_result"
    },
    {
     "data": {
      "image/png": "[encoded data removed]",
      "text/plain": [
       "<Figure size 432x288 with 1 Axes>"
      ]
     },
     "metadata": {
      "needs_background": "light"
     },
     "output_type": "display_data"
    }
   ],
   "source": [
    "df_train.dataset.hist()"
   ]
  },
  {
   "cell_type": "code",
   "execution_count": 36,
   "id": "cardiovascular-signature",
   "metadata": {},
   "outputs": [],
   "source": [
    "df_train['valid']=0"
   ]
  },
  {
   "cell_type": "code",
   "execution_count": 42,
   "id": "boxed-pakistan",
   "metadata": {},
   "outputs": [
    {
     "data": {
      "text/plain": [
       "(18443, 5)"
      ]
     },
     "execution_count": 42,
     "metadata": {},
     "output_type": "execute_result"
    }
   ],
   "source": [
    "df_train.shape"
   ]
  },
  {
   "cell_type": "code",
   "execution_count": 37,
   "id": "tribal-drunk",
   "metadata": {},
   "outputs": [],
   "source": [
    "df_test = pd.read_csv(os.path.join(data_folder,'test_split.txt'), delimiter = \" \", header=None)\n",
    "df_test.columns=['key','filename','label','dataset']"
   ]
  },
  {
   "cell_type": "code",
   "execution_count": 38,
   "id": "christian-edition",
   "metadata": {},
   "outputs": [
    {
     "data": {
      "text/html": [
       "<div>\n",
       "<style scoped>\n",
       "    .dataframe tbody tr th:only-of-type {\n",
       "        vertical-align: middle;\n",
       "    }\n",
       "\n",
       "    .dataframe tbody tr th {\n",
       "        vertical-align: top;\n",
       "    }\n",
       "\n",
       "    .dataframe thead th {\n",
       "        text-align: right;\n",
       "    }\n",
       "</style>\n",
       "<table border=\"1\" class=\"dataframe\">\n",
       "  <thead>\n",
       "    <tr style=\"text-align: right;\">\n",
       "      <th></th>\n",
       "      <th>key</th>\n",
       "      <th>filename</th>\n",
       "      <th>label</th>\n",
       "      <th>dataset</th>\n",
       "    </tr>\n",
       "  </thead>\n",
       "  <tbody>\n",
       "    <tr>\n",
       "      <th>0</th>\n",
       "      <td>ANON193</td>\n",
       "      <td>CR.1.2.840.113564.1722810170.20200418154808640...</td>\n",
       "      <td>negative</td>\n",
       "      <td>actmed</td>\n",
       "    </tr>\n",
       "    <tr>\n",
       "      <th>1</th>\n",
       "      <td>ANON175</td>\n",
       "      <td>CR.1.2.840.113564.192168196.202004061040521478...</td>\n",
       "      <td>negative</td>\n",
       "      <td>actmed</td>\n",
       "    </tr>\n",
       "    <tr>\n",
       "      <th>2</th>\n",
       "      <td>ANON216</td>\n",
       "      <td>DX.1.2.840.113564.1722810162.20200321192719071...</td>\n",
       "      <td>negative</td>\n",
       "      <td>actmed</td>\n",
       "    </tr>\n",
       "    <tr>\n",
       "      <th>3</th>\n",
       "      <td>ANON156</td>\n",
       "      <td>DX.1.2.840.113564.1722810162.20200324090442116...</td>\n",
       "      <td>negative</td>\n",
       "      <td>actmed</td>\n",
       "    </tr>\n",
       "    <tr>\n",
       "      <th>4</th>\n",
       "      <td>ANON141</td>\n",
       "      <td>DX.1.2.840.113564.1722810162.20200324173135171...</td>\n",
       "      <td>negative</td>\n",
       "      <td>actmed</td>\n",
       "    </tr>\n",
       "  </tbody>\n",
       "</table>\n",
       "</div>"
      ],
      "text/plain": [
       "       key                                           filename     label  \\\n",
       "0  ANON193  CR.1.2.840.113564.1722810170.20200418154808640...  negative   \n",
       "1  ANON175  CR.1.2.840.113564.192168196.202004061040521478...  negative   \n",
       "2  ANON216  DX.1.2.840.113564.1722810162.20200321192719071...  negative   \n",
       "3  ANON156  DX.1.2.840.113564.1722810162.20200324090442116...  negative   \n",
       "4  ANON141  DX.1.2.840.113564.1722810162.20200324173135171...  negative   \n",
       "\n",
       "  dataset  \n",
       "0  actmed  \n",
       "1  actmed  \n",
       "2  actmed  \n",
       "3  actmed  \n",
       "4  actmed  "
      ]
     },
     "execution_count": 38,
     "metadata": {},
     "output_type": "execute_result"
    }
   ],
   "source": [
    "df_test.head()"
   ]
  },
  {
   "cell_type": "code",
   "execution_count": 41,
   "id": "stylish-pontiac",
   "metadata": {},
   "outputs": [
    {
     "data": {
      "text/plain": [
       "(374, 4)"
      ]
     },
     "execution_count": 41,
     "metadata": {},
     "output_type": "execute_result"
    }
   ],
   "source": [
    "df_test.shape"
   ]
  },
  {
   "cell_type": "code",
   "execution_count": 40,
   "id": "fabulous-marketplace",
   "metadata": {},
   "outputs": [
    {
     "data": {
      "text/plain": [
       "<AxesSubplot:>"
      ]
     },
     "execution_count": 40,
     "metadata": {},
     "output_type": "execute_result"
    },
    {
     "data": {
      "image/png": "[encoded data removed]",
      "text/plain": [
       "<Figure size 432x288 with 1 Axes>"
      ]
     },
     "metadata": {
      "needs_background": "light"
     },
     "output_type": "display_data"
    }
   ],
   "source": [
    "df_test.label.hist()"
   ]
  },
  {
   "cell_type": "code",
   "execution_count": 43,
   "id": "yellow-implementation",
   "metadata": {},
   "outputs": [],
   "source": [
    "df_test['valid']=1"
   ]
  },
  {
   "cell_type": "code",
   "execution_count": 44,
   "id": "occasional-dispute",
   "metadata": {},
   "outputs": [],
   "source": [
    "df_main = pd.concat([df_train,df_test])"
   ]
  },
  {
   "cell_type": "code",
   "execution_count": 45,
   "id": "documentary-saudi",
   "metadata": {},
   "outputs": [
    {
     "data": {
      "text/plain": [
       "(18817, 5)"
      ]
     },
     "execution_count": 45,
     "metadata": {},
     "output_type": "execute_result"
    }
   ],
   "source": [
    "df_main.shape"
   ]
  },
  {
   "cell_type": "code",
   "execution_count": 49,
   "id": "secret-brain",
   "metadata": {},
   "outputs": [],
   "source": [
    "df_main.to_csv('df_main.csv')"
   ]
  },
  {
   "cell_type": "code",
   "execution_count": 47,
   "id": "aggregate-malta",
   "metadata": {},
   "outputs": [],
   "source": [
    "df_main['label_num'] = df_main.apply(lambda x: 0 if x['label']=='negative' else 1, axis = 1)"
   ]
  },
  {
   "cell_type": "code",
   "execution_count": 48,
   "id": "analyzed-stevens",
   "metadata": {},
   "outputs": [
    {
     "data": {
      "text/plain": [
       "<AxesSubplot:>"
      ]
     },
     "execution_count": 48,
     "metadata": {},
     "output_type": "execute_result"
    },
    {
     "data": {
      "image/png": "[encoded data removed]",
      "text/plain": [
       "<Figure size 432x288 with 1 Axes>"
      ]
     },
     "metadata": {
      "needs_background": "light"
     },
     "output_type": "display_data"
    }
   ],
   "source": [
    "df_main.label_num.hist()"
   ]
  },
  {
   "cell_type": "markdown",
   "id": "mobile-factory",
   "metadata": {},
   "source": [
    "## test"
   ]
  },
  {
   "cell_type": "code",
   "execution_count": null,
   "id": "emerging-forty",
   "metadata": {},
   "outputs": [],
   "source": []
  },
  {
   "cell_type": "code",
   "execution_count": 2,
   "id": "superior-memory",
   "metadata": {},
   "outputs": [],
   "source": [
    "test_folder = r'E:\\Xing\\Covid_19_xray\\data\\test\\deidcxr\\pngdeid'\n",
    "files = glob2.glob(os.path.join(test_folder,'*png'))"
   ]
  },
  {
   "cell_type": "code",
   "execution_count": 3,
   "id": "cloudy-karen",
   "metadata": {},
   "outputs": [
    {
     "data": {
      "text/plain": [
       "75"
      ]
     },
     "execution_count": 3,
     "metadata": {},
     "output_type": "execute_result"
    }
   ],
   "source": [
    "len(files)"
   ]
  },
  {
   "cell_type": "code",
   "execution_count": 6,
   "id": "electoral-advocacy",
   "metadata": {},
   "outputs": [
    {
     "data": {
      "application/vnd.jupyter.widget-view+json": {
       "model_id": "df055c5450634e6baa7804bf2347bc84",
       "version_major": 2,
       "version_minor": 0
      },
      "text/plain": [
       "  0%|          | 0/75 [00:00<?, ?it/s]"
      ]
     },
     "metadata": {},
     "output_type": "display_data"
    }
   ],
   "source": [
    "file_name = []\n",
    "for fl in tqdm(files):\n",
    "    try:\n",
    "        img = Image.open(fl).convert('RGB')\n",
    "        file_name.append(fl)\n",
    "    except:\n",
    "        print(fl)"
   ]
  },
  {
   "cell_type": "code",
   "execution_count": 7,
   "id": "natural-classroom",
   "metadata": {},
   "outputs": [],
   "source": [
    "df_tst = pd.DataFrame({\n",
    "    'filename':file_name\n",
    "})"
   ]
  },
  {
   "cell_type": "code",
   "execution_count": 11,
   "id": "informative-correspondence",
   "metadata": {},
   "outputs": [
    {
     "data": {
      "text/html": [
       "<div>\n",
       "<style scoped>\n",
       "    .dataframe tbody tr th:only-of-type {\n",
       "        vertical-align: middle;\n",
       "    }\n",
       "\n",
       "    .dataframe tbody tr th {\n",
       "        vertical-align: top;\n",
       "    }\n",
       "\n",
       "    .dataframe thead th {\n",
       "        text-align: right;\n",
       "    }\n",
       "</style>\n",
       "<table border=\"1\" class=\"dataframe\">\n",
       "  <thead>\n",
       "    <tr style=\"text-align: right;\">\n",
       "      <th></th>\n",
       "      <th>filename</th>\n",
       "      <th>valid</th>\n",
       "      <th>dataset</th>\n",
       "    </tr>\n",
       "  </thead>\n",
       "  <tbody>\n",
       "    <tr>\n",
       "      <th>0</th>\n",
       "      <td>E:\\Xing\\Covid_19_xray\\data\\test\\deidcxr\\pngdei...</td>\n",
       "      <td>1</td>\n",
       "      <td>VA</td>\n",
       "    </tr>\n",
       "    <tr>\n",
       "      <th>1</th>\n",
       "      <td>E:\\Xing\\Covid_19_xray\\data\\test\\deidcxr\\pngdei...</td>\n",
       "      <td>1</td>\n",
       "      <td>VA</td>\n",
       "    </tr>\n",
       "    <tr>\n",
       "      <th>2</th>\n",
       "      <td>E:\\Xing\\Covid_19_xray\\data\\test\\deidcxr\\pngdei...</td>\n",
       "      <td>1</td>\n",
       "      <td>VA</td>\n",
       "    </tr>\n",
       "    <tr>\n",
       "      <th>3</th>\n",
       "      <td>E:\\Xing\\Covid_19_xray\\data\\test\\deidcxr\\pngdei...</td>\n",
       "      <td>1</td>\n",
       "      <td>VA</td>\n",
       "    </tr>\n",
       "    <tr>\n",
       "      <th>4</th>\n",
       "      <td>E:\\Xing\\Covid_19_xray\\data\\test\\deidcxr\\pngdei...</td>\n",
       "      <td>1</td>\n",
       "      <td>VA</td>\n",
       "    </tr>\n",
       "  </tbody>\n",
       "</table>\n",
       "</div>"
      ],
      "text/plain": [
       "                                            filename  valid dataset\n",
       "0  E:\\Xing\\Covid_19_xray\\data\\test\\deidcxr\\pngdei...      1      VA\n",
       "1  E:\\Xing\\Covid_19_xray\\data\\test\\deidcxr\\pngdei...      1      VA\n",
       "2  E:\\Xing\\Covid_19_xray\\data\\test\\deidcxr\\pngdei...      1      VA\n",
       "3  E:\\Xing\\Covid_19_xray\\data\\test\\deidcxr\\pngdei...      1      VA\n",
       "4  E:\\Xing\\Covid_19_xray\\data\\test\\deidcxr\\pngdei...      1      VA"
      ]
     },
     "execution_count": 11,
     "metadata": {},
     "output_type": "execute_result"
    }
   ],
   "source": [
    "df_tst.head()"
   ]
  },
  {
   "cell_type": "code",
   "execution_count": 9,
   "id": "continuing-equipment",
   "metadata": {},
   "outputs": [],
   "source": [
    "df_tst['valid']=1"
   ]
  },
  {
   "cell_type": "code",
   "execution_count": 10,
   "id": "selective-pastor",
   "metadata": {},
   "outputs": [],
   "source": [
    "df_tst['dataset']='VA'"
   ]
  },
  {
   "cell_type": "code",
   "execution_count": 13,
   "id": "sitting-receiver",
   "metadata": {},
   "outputs": [],
   "source": [
    "df_tst['label_num']= 0"
   ]
  },
  {
   "cell_type": "code",
   "execution_count": 14,
   "id": "overhead-cyprus",
   "metadata": {},
   "outputs": [],
   "source": [
    "df_tst.to_csv('df_test.csv')"
   ]
  },
  {
   "cell_type": "markdown",
   "id": "starting-raising",
   "metadata": {},
   "source": [
    "## test with gt"
   ]
  },
  {
   "cell_type": "code",
   "execution_count": 6,
   "id": "opening-least",
   "metadata": {},
   "outputs": [],
   "source": [
    "# test_folder = r'E:\\Xing\\Covid_19_xray\\data\\test\\deidcxr\\pngdeid'\n",
    "test_folder = r'E:\\Xing\\Covid_19_xray\\data\\test\\manualdeid'"
   ]
  },
  {
   "cell_type": "code",
   "execution_count": 7,
   "id": "favorite-sport",
   "metadata": {},
   "outputs": [],
   "source": [
    "df_test_gt = pd.read_csv('test.csv')"
   ]
  },
  {
   "cell_type": "code",
   "execution_count": 8,
   "id": "provincial-france",
   "metadata": {},
   "outputs": [
    {
     "data": {
      "text/html": [
       "<div>\n",
       "<style scoped>\n",
       "    .dataframe tbody tr th:only-of-type {\n",
       "        vertical-align: middle;\n",
       "    }\n",
       "\n",
       "    .dataframe tbody tr th {\n",
       "        vertical-align: top;\n",
       "    }\n",
       "\n",
       "    .dataframe thead th {\n",
       "        text-align: right;\n",
       "    }\n",
       "</style>\n",
       "<table border=\"1\" class=\"dataframe\">\n",
       "  <thead>\n",
       "    <tr style=\"text-align: right;\">\n",
       "      <th></th>\n",
       "      <th>PCR</th>\n",
       "      <th>filename</th>\n",
       "    </tr>\n",
       "  </thead>\n",
       "  <tbody>\n",
       "    <tr>\n",
       "      <th>0</th>\n",
       "      <td>negative</td>\n",
       "      <td>1107_1562_5</td>\n",
       "    </tr>\n",
       "    <tr>\n",
       "      <th>1</th>\n",
       "      <td>negative</td>\n",
       "      <td>1107_1562_5</td>\n",
       "    </tr>\n",
       "    <tr>\n",
       "      <th>2</th>\n",
       "      <td>positive</td>\n",
       "      <td>1119_2690_3</td>\n",
       "    </tr>\n",
       "    <tr>\n",
       "      <th>3</th>\n",
       "      <td>positive</td>\n",
       "      <td>1124_2406_1</td>\n",
       "    </tr>\n",
       "    <tr>\n",
       "      <th>4</th>\n",
       "      <td>positive</td>\n",
       "      <td>1219_5157_1</td>\n",
       "    </tr>\n",
       "  </tbody>\n",
       "</table>\n",
       "</div>"
      ],
      "text/plain": [
       "        PCR     filename\n",
       "0  negative  1107_1562_5\n",
       "1  negative  1107_1562_5\n",
       "2  positive  1119_2690_3\n",
       "3  positive  1124_2406_1\n",
       "4  positive  1219_5157_1"
      ]
     },
     "execution_count": 8,
     "metadata": {},
     "output_type": "execute_result"
    }
   ],
   "source": [
    "df_test_gt.head()"
   ]
  },
  {
   "cell_type": "code",
   "execution_count": 9,
   "id": "biblical-victorian",
   "metadata": {},
   "outputs": [],
   "source": [
    "df_test_gt.rename(columns={'filename':'key'},inplace=True)"
   ]
  },
  {
   "cell_type": "code",
   "execution_count": 10,
   "id": "macro-circulation",
   "metadata": {},
   "outputs": [],
   "source": [
    "df_test_gt['filename'] = df_test_gt.apply(lambda x:os.path.join(test_folder,x['key']+'.png'), axis=1)"
   ]
  },
  {
   "cell_type": "code",
   "execution_count": 11,
   "id": "accomplished-seller",
   "metadata": {},
   "outputs": [],
   "source": [
    "df_test_gt['label_num'] = df_test_gt.apply(lambda x: 0 if x['PCR']=='negative' else 1, axis = 1)"
   ]
  },
  {
   "cell_type": "code",
   "execution_count": 12,
   "id": "supported-federation",
   "metadata": {},
   "outputs": [
    {
     "data": {
      "text/plain": [
       "<AxesSubplot:>"
      ]
     },
     "execution_count": 12,
     "metadata": {},
     "output_type": "execute_result"
    },
    {
     "data": {
      "image/png": "[encoded data removed]",
      "text/plain": [
       "<Figure size 432x288 with 1 Axes>"
      ]
     },
     "metadata": {
      "needs_background": "light"
     },
     "output_type": "display_data"
    }
   ],
   "source": [
    "df_test_gt.label_num.hist()"
   ]
  },
  {
   "cell_type": "code",
   "execution_count": 13,
   "id": "acute-ability",
   "metadata": {},
   "outputs": [],
   "source": [
    "df_test_gt['valid']=1"
   ]
  },
  {
   "cell_type": "code",
   "execution_count": 14,
   "id": "alpine-modem",
   "metadata": {},
   "outputs": [],
   "source": [
    "df_test_gt.to_csv('df_test_gt_new.csv')"
   ]
  },
  {
   "cell_type": "code",
   "execution_count": null,
   "id": "boolean-murder",
   "metadata": {},
   "outputs": [],
   "source": []
  }
 ],
 "metadata": {
  "kernelspec": {
   "display_name": "fastai_v2",
   "language": "python",
   "name": "fastai_v2"
  },
  "language_info": {
   "codemirror_mode": {
    "name": "ipython",
    "version": 3
   },
   "file_extension": ".py",
   "mimetype": "text/x-python",
   "name": "python",
   "nbconvert_exporter": "python",
   "pygments_lexer": "ipython3",
   "version": "3.7.10"
  },
  "toc": {
   "base_numbering": 1,
   "nav_menu": {},
   "number_sections": true,
   "sideBar": true,
   "skip_h1_title": false,
   "title_cell": "Table of Contents",
   "title_sidebar": "Contents",
   "toc_cell": true,
   "toc_position": {
    "height": "calc(100% - 180px)",
    "left": "10px",
    "top": "150px",
    "width": "310.417px"
   },
   "toc_section_display": true,
   "toc_window_display": true
  }
 },
 "nbformat": 4,
 "nbformat_minor": 5
}